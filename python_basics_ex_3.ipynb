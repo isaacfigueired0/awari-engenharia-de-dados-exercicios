{
 "cells": [
  {
   "cell_type": "code",
   "execution_count": 3,
   "id": "b26423e4-d112-4a2d-8908-70f78df16bd2",
   "metadata": {
    "tags": []
   },
   "outputs": [],
   "source": [
    "frutas = ['bananas', 'maçãs', 'peras', 'uvas', 'laranjas']"
   ]
  },
  {
   "cell_type": "code",
   "execution_count": 4,
   "id": "f6246b74-5aed-4919-804c-1aafcc0079c5",
   "metadata": {
    "tags": []
   },
   "outputs": [
    {
     "name": "stdin",
     "output_type": "stream",
     "text": [
      "Digite o nome de uma fruta ou 999 para encerrar:  Carambola\n"
     ]
    },
    {
     "name": "stdout",
     "output_type": "stream",
     "text": [
      "A fruta 'Carambola' foi adicionada à lista.\n"
     ]
    },
    {
     "name": "stdin",
     "output_type": "stream",
     "text": [
      "Digite o nome de uma fruta ou 999 para encerrar:  Jabuticaba\n"
     ]
    },
    {
     "name": "stdout",
     "output_type": "stream",
     "text": [
      "A fruta 'Jabuticaba' foi adicionada à lista.\n"
     ]
    },
    {
     "name": "stdin",
     "output_type": "stream",
     "text": [
      "Digite o nome de uma fruta ou 999 para encerrar:  999\n"
     ]
    }
   ],
   "source": [
    "while True:\n",
    "    i = input(\"Digite o nome de uma fruta ou 999 para encerrar: \")\n",
    "    if i == '999':\n",
    "        break\n",
    "    if i in frutas:\n",
    "        print(f\"A fruta '{i}' já está na lista.\")\n",
    "    else:\n",
    "        frutas.append(i)\n",
    "        print(f\"A fruta '{i}' foi adicionada à lista.\")"
   ]
  },
  {
   "cell_type": "code",
   "execution_count": 5,
   "id": "6ad3b009-5657-4748-8e51-edd7a10aa1f8",
   "metadata": {
    "tags": []
   },
   "outputs": [
    {
     "name": "stdout",
     "output_type": "stream",
     "text": [
      "['bananas', 'maçãs', 'peras', 'uvas', 'laranjas', 'Carambola', 'Jabuticaba']\n"
     ]
    }
   ],
   "source": [
    "print(frutas)"
   ]
  },
  {
   "cell_type": "code",
   "execution_count": null,
   "id": "6563e4e9-29f6-4169-a2c8-ef3b842d340e",
   "metadata": {},
   "outputs": [],
   "source": []
  }
 ],
 "metadata": {
  "kernelspec": {
   "display_name": "Python 3 (ipykernel)",
   "language": "python",
   "name": "python3"
  },
  "language_info": {
   "codemirror_mode": {
    "name": "ipython",
    "version": 3
   },
   "file_extension": ".py",
   "mimetype": "text/x-python",
   "name": "python",
   "nbconvert_exporter": "python",
   "pygments_lexer": "ipython3",
   "version": "3.10.9"
  }
 },
 "nbformat": 4,
 "nbformat_minor": 5
}
