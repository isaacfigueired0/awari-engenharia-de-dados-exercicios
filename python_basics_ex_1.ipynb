{
 "cells": [
  {
   "cell_type": "code",
   "execution_count": 20,
   "id": "3a8fb06a-419d-4914-bdd2-4557c0bf77b6",
   "metadata": {
    "tags": []
   },
   "outputs": [],
   "source": [
    "def fibonacci(n):\n",
    "    fib = [0, 1]\n",
    "    \n",
    "    while fib[-1] + fib[-2] <= n:\n",
    "        m = fib[-1] + fib[-2]\n",
    "        fib.append(m)\n",
    "    \n",
    "    return fib"
   ]
  },
  {
   "cell_type": "code",
   "execution_count": 23,
   "id": "7d003c34-6662-4251-8175-eb74e580e009",
   "metadata": {
    "tags": []
   },
   "outputs": [],
   "source": [
    "r = fibonacci(100)"
   ]
  },
  {
   "cell_type": "code",
   "execution_count": 24,
   "id": "bdffeb68-e692-459c-97c7-206b53a376b5",
   "metadata": {
    "tags": []
   },
   "outputs": [
    {
     "name": "stdout",
     "output_type": "stream",
     "text": [
      "[0, 1, 1, 2, 3, 5, 8, 13, 21, 34, 55, 89]\n"
     ]
    }
   ],
   "source": [
    "print(r)"
   ]
  }
 ],
 "metadata": {
  "kernelspec": {
   "display_name": "Python 3 (ipykernel)",
   "language": "python",
   "name": "python3"
  },
  "language_info": {
   "codemirror_mode": {
    "name": "ipython",
    "version": 3
   },
   "file_extension": ".py",
   "mimetype": "text/x-python",
   "name": "python",
   "nbconvert_exporter": "python",
   "pygments_lexer": "ipython3",
   "version": "3.10.9"
  }
 },
 "nbformat": 4,
 "nbformat_minor": 5
}
