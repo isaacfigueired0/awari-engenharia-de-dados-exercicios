{
 "cells": [
  {
   "cell_type": "code",
   "execution_count": 4,
   "id": "6ef797c7-82e8-411d-9e4d-6bb2239acb68",
   "metadata": {
    "tags": []
   },
   "outputs": [],
   "source": [
    "def fatorial(n):\n",
    "    r = 1\n",
    "    for i in range(1, n+1):\n",
    "        r*=i\n",
    "    return r"
   ]
  },
  {
   "cell_type": "code",
   "execution_count": 7,
   "id": "04e3ca73-bded-4da6-b0a2-fc6f485099ce",
   "metadata": {
    "tags": []
   },
   "outputs": [],
   "source": [
    "a = fatorial(10)"
   ]
  },
  {
   "cell_type": "code",
   "execution_count": 8,
   "id": "a4b79bf8-eeea-4999-8e4c-7c1f8fc75746",
   "metadata": {
    "tags": []
   },
   "outputs": [
    {
     "name": "stdout",
     "output_type": "stream",
     "text": [
      "3628800\n"
     ]
    }
   ],
   "source": [
    "print(a)"
   ]
  },
  {
   "cell_type": "code",
   "execution_count": null,
   "id": "7d0e7112-77d5-48bf-9eea-781206d4b812",
   "metadata": {},
   "outputs": [],
   "source": []
  }
 ],
 "metadata": {
  "kernelspec": {
   "display_name": "Python 3 (ipykernel)",
   "language": "python",
   "name": "python3"
  },
  "language_info": {
   "codemirror_mode": {
    "name": "ipython",
    "version": 3
   },
   "file_extension": ".py",
   "mimetype": "text/x-python",
   "name": "python",
   "nbconvert_exporter": "python",
   "pygments_lexer": "ipython3",
   "version": "3.10.9"
  }
 },
 "nbformat": 4,
 "nbformat_minor": 5
}
